{
 "cells": [
  {
   "cell_type": "code",
   "execution_count": 1,
   "id": "b9da7738-dd63-4c02-89a4-132de136d91a",
   "metadata": {
    "ExecuteTime": {
     "end_time": "2024-03-16T15:34:51.344675Z",
     "start_time": "2024-03-16T15:34:51.331958Z"
    }
   },
   "outputs": [],
   "source": [
    "!pip3 install torch torchvision torchaudio --index-url https://download.pytorch.org/whl/cu121\n",
    "!pip install -U ultralytics\n",
    "!pip install opencv-python\n",
    "!pip install dxcam\n",
    "!pip install pydirectinput-rgx\n",
    "!pip install shapely\n",
    "!pip install sahi\n",
    "!pip install keyboard\n",
    "!pip install pywin32\n",
    "!pip install --quiet PySide6"
   ]
  },
  {
   "cell_type": "code",
   "execution_count": 2,
   "id": "23f1c224-6ba3-4c72-8cee-95e7309f81ef",
   "metadata": {
    "ExecuteTime": {
     "end_time": "2024-03-16T15:34:51.608695Z",
     "start_time": "2024-03-16T15:34:51.346816Z"
    }
   },
   "outputs": [],
   "source": [
    "import sys\n",
    "import os\n",
    "from PySide6.QtWidgets import QWidget, QApplication, QFileDialog\n",
    "\n",
    "from PySide6.QtUiTools import QUiLoader\n",
    "from PySide6.QtCore import  Qt, QRunnable, Slot, QThreadPool,QProcess\n",
    "from PySide6.QtGui import QIcon, QCloseEvent\n",
    "import re\n",
    "\n",
    "# import run\n",
    "\n",
    "from configparser import ConfigParser\n"
   ]
  },
  {
   "cell_type": "code",
   "execution_count": 3,
   "id": "a9ddcd6bfd79d1e8",
   "metadata": {
    "collapsed": false,
    "ExecuteTime": {
     "end_time": "2024-03-16T15:34:51.623482Z",
     "start_time": "2024-03-16T15:34:51.610753Z"
    }
   },
   "outputs": [
    {
     "data": {
      "text/plain": "['settings.ini']"
     },
     "execution_count": 3,
     "metadata": {},
     "output_type": "execute_result"
    }
   ],
   "source": [
    "settings_file='settings.ini'\n",
    "config = ConfigParser()\n",
    "config.read(settings_file)\n",
    "# list(config['custom'])"
   ]
  },
  {
   "cell_type": "code",
   "execution_count": 4,
   "id": "be62c56edaabeb21",
   "metadata": {
    "collapsed": false,
    "ExecuteTime": {
     "end_time": "2024-03-16T15:34:51.654768Z",
     "start_time": "2024-03-16T15:34:51.625513Z"
    }
   },
   "outputs": [],
   "source": [
    "class mywidget(QWidget):\n",
    "    def __init__(self):\n",
    "        super().__init__()\n",
    "        self.ui=loader.load('UI_design.ui',None)\n",
    "        self.ui.setWindowIcon(QIcon(\"icon.png\"))\n",
    "        \n",
    "        self.threadpool = QThreadPool()\n",
    "        \n",
    "        if self.read_config('custom','FPS')=='True':\n",
    "            self.ui.FPS_checkBox.setCheckState(Qt.Checked)\n",
    "        if self.read_config('custom','VERBOSE')=='True':\n",
    "            self.ui.VERBOSE_checkBox.setCheckState(Qt.Checked)\n",
    "        if self.read_config('custom','AIM_ASSIST')=='True':\n",
    "            self.ui.AIM_ASSIST_checkBox.setCheckState(Qt.Checked)\n",
    "        if self.read_config('custom','AUTO_TRIGGER')=='True':\n",
    "            self.ui.AUTO_TRIGGER_checkBox.setCheckState(Qt.Checked)\n",
    "        if self.read_config('custom','ALWAYS_ACTIVE')=='True':\n",
    "            self.ui.ALWAYS_ACTIVE_checkBox.setCheckState(Qt.Checked)\n",
    "            \n",
    "        if self.read_config('custom','PREDICT')=='True':    \n",
    "            self.ui.PREDICT_radioButton.setChecked(True)\n",
    "        if self.read_config('custom','SAHI')=='True':    \n",
    "            self.ui.SAHI_radioButton.setChecked(True)\n",
    "        if self.read_config('custom','HEAD')=='True':\n",
    "            self.ui.HEAD_radioButton.setChecked(True)\n",
    "        if self.read_config('custom','BODY')=='True':\n",
    "            self.ui.BODY_radioButton.setChecked(True)\n",
    "        if self.read_config('custom','RANDOM')=='True':\n",
    "            self.ui.RANDOM_radioButton.setChecked(True)\n",
    "        \n",
    "        \n",
    "        self.ui.SAHI_CT_lineEdit.setText(self.read_config('custom','SAHI_CT'))\n",
    "        self.ui.YOLO_CONFIDENCE_THRESHOLD_lineEdit.setText(self.read_config('custom','YOLO_CONFIDENCE_THRESHOLD'))\n",
    "        self.ui.IOU_lineEdit.setText(self.read_config('custom','IOU'))\n",
    "        self.ui.MODEL_PATH_lineEdit.setText(self.read_config('custom','MODEL_PATH'))\n",
    "        self.ui.LEFT_lineEdit.setText(self.read_config('custom','LEFT'))\n",
    "        self.ui.TOP_lineEdit.setText(self.read_config('custom','TOP'))\n",
    "        self.ui.RIGHT_lineEdit.setText(self.read_config('custom','RIGHT'))\n",
    "        self.ui.BOTTOM_lineEdit.setText(self.read_config('custom','BOTTOM'))\n",
    "        self.ui.SCALE_lineEdit.setText(self.read_config('custom','SCALE'))\n",
    "        self.ui.ACTIVATE_KEY_lineEdit.setText(self.read_config('custom','ACTIVATE_KEY'))\n",
    "        self.ui.D_or_E_KEY_lineEdit.setText(self.read_config('custom','D_or_E_KEY'))\n",
    "        \n",
    "        self.ui.Browse_pushButton.clicked.connect(self.getModelPath)\n",
    "        self.ui.DEFAULT_pushButton.clicked.connect(self.default_settings)\n",
    "        self.ui.APPLY_pushButton.clicked.connect(self.apply_settings)\n",
    "        self.ui.RUN_pushButton.clicked.connect(self.RUN)\n",
    "        \n",
    "        app.aboutToQuit.connect(self.closeEvent)\n",
    "        \n",
    "    def getModelPath(self):\n",
    "        file_filter='PyTorch Model (*.pt *.pth)'\n",
    "        model_path=QFileDialog.getOpenFileName(\n",
    "            self, \n",
    "            'Select a model',\n",
    "            dir=os.getcwd(),\n",
    "            filter=file_filter \n",
    "        )\n",
    "        self.ui.MODEL_PATH_lineEdit.setText(model_path[0])\n",
    "   \n",
    "    def show_FPS(self):\n",
    "        data = self.p.readAllStandardOutput()\n",
    "        stdout = bytes(data).decode(\"utf8\")\n",
    "        self.ui.FPS_textEdit.setText(stdout)#[5:50])\n",
    "        \n",
    "    def show_ERROR(self):\n",
    "        error=self.p.readAllStandardError()\n",
    "        if len(error)>1:\n",
    "            # print(error)\n",
    "            # print(len(error))\n",
    "            stderr=bytes(error).decode(\"latin-1\")\n",
    "            self.ui.FPS_textEdit.append(stderr)#[5:50])\n",
    "        # else:print(error)\n",
    "        \n",
    "    \n",
    "    def apply_settings(self):\n",
    "        config.set('custom','FPS',str(self.ui.FPS_checkBox.isChecked() ) )\n",
    "        config.set('custom','VERBOSE',str(self.ui.VERBOSE_checkBox.isChecked() ) )\n",
    "        config.set('custom','AIM_ASSIST',str(self.ui.AIM_ASSIST_checkBox.isChecked() ) )\n",
    "        config.set('custom','AUTO_TRIGGER',str(self.ui.AUTO_TRIGGER_checkBox.isChecked() ) )\n",
    "        \n",
    "        config.set('custom','PREDICT',str(self.ui.PREDICT_radioButton.isChecked() ) )\n",
    "        config.set('custom','SAHI',str(self.ui.SAHI_radioButton.isChecked() ) )\n",
    "        config.set('custom','HEAD',str(self.ui.HEAD_radioButton.isChecked() ) )\n",
    "        config.set('custom','BODY',str(self.ui.BODY_radioButton.isChecked() ) )\n",
    "        config.set('custom','RANDOM',str(self.ui.RANDOM_radioButton.isChecked() ) )\n",
    "        \n",
    "        config.set('custom','SAHI_CT', self.ui.SAHI_CT_lineEdit.text())\n",
    "        config.set('custom','YOLO_CONFIDENCE_THRESHOLD', self.ui.YOLO_CONFIDENCE_THRESHOLD_lineEdit.text())\n",
    "        config.set('custom','IOU', self.ui.IOU_lineEdit.text())\n",
    "        config.set('custom','MODEL_PATH', self.ui.MODEL_PATH_lineEdit.text())\n",
    "        config.set('custom','LEFT', self.ui.LEFT_lineEdit.text())\n",
    "        config.set('custom','TOP', self.ui.TOP_lineEdit.text())\n",
    "        config.set('custom','RIGHT', self.ui.RIGHT_lineEdit.text())\n",
    "        config.set('custom','BOTTOM', self.ui.BOTTOM_lineEdit.text())\n",
    "        config.set('custom','SCALE', self.ui.SCALE_lineEdit.text())\n",
    "        config.set('custom','ACTIVATE_KEY', self.ui.ACTIVATE_KEY_lineEdit.text())\n",
    "        config.set('custom','D_or_E_KEY', self.ui.D_or_E_KEY_lineEdit.text())      \n",
    "        \n",
    "        with open(settings_file,'w') as config_file:\n",
    "            config.write(config_file)\n",
    "            \n",
    "\n",
    "    def default_settings(self):\n",
    "        \n",
    "        if self.read_config('default','FPS')=='True':\n",
    "            self.ui.FPS_checkBox.setCheckState(Qt.Checked)\n",
    "        else:\n",
    "            self.ui.FPS_checkBox.setCheckState(Qt.Unchecked)\n",
    "        if self.read_config('default','VERBOSE')=='True':\n",
    "            self.ui.VERBOSE_checkBox.setCheckState(Qt.Checked)\n",
    "        else:\n",
    "            self.ui.VERBOSE_checkBox.setCheckState(Qt.Unchecked)\n",
    "        if self.read_config('default','AIM_ASSIST')=='True':\n",
    "            self.ui.AIM_ASSIST_checkBox.setCheckState(Qt.Checked)\n",
    "        else:\n",
    "            self.ui.AIM_ASSIST_checkBox.setCheckState(Qt.Unchecked)\n",
    "        if self.read_config('default','AUTO_TRIGGER')=='True':\n",
    "            self.ui.AUTO_TRIGGER_checkBox.setCheckState(Qt.Checked)\n",
    "        else:\n",
    "            self.ui.AUTO_TRIGGER_checkBox.setCheckState(Qt.Unchecked)\n",
    "        if self.read_config('default','ALWAYS_ACTIVE')=='True':\n",
    "            self.ui.ALWAYS_ACTIVE_checkBox.setCheckState(Qt.Checked)\n",
    "        else:\n",
    "            self.ui.ALWAYS_ACTIVE_checkBox.setCheckState(Qt.Unchecked)\n",
    "            \n",
    "        if self.read_config('default','PREDICT')=='True':    \n",
    "            self.ui.PREDICT_radioButton.setChecked(True)\n",
    "        if self.read_config('default','HEAD')=='True':\n",
    "            self.ui.HEAD_radioButton.setChecked(True)\n",
    "        if self.read_config('default','BODY')=='True':\n",
    "            self.ui.BODY_radioButton.setChecked(True)\n",
    "        if self.read_config('default','RANDOM')=='True':\n",
    "            self.ui.RANDOM_radioButton.setChecked(True)\n",
    "        \n",
    "        \n",
    "        self.ui.SAHI_CT_lineEdit.setText(self.read_config('default','SAHI_CT'))\n",
    "        self.ui.YOLO_CONFIDENCE_THRESHOLD_lineEdit.setText(self.read_config('default','YOLO_CONFIDENCE_THRESHOLD'))\n",
    "        self.ui.IOU_lineEdit.setText(self.read_config('default','IOU'))\n",
    "        self.ui.MODEL_PATH_lineEdit.setText(self.read_config('default','MODEL_PATH'))\n",
    "        self.ui.LEFT_lineEdit.setText(self.read_config('default','LEFT'))\n",
    "        self.ui.TOP_lineEdit.setText(self.read_config('default','TOP'))\n",
    "        self.ui.RIGHT_lineEdit.setText(self.read_config('default','RIGHT'))\n",
    "        self.ui.BOTTOM_lineEdit.setText(self.read_config('default','BOTTOM'))\n",
    "        self.ui.SCALE_lineEdit.setText(self.read_config('default','SCALE'))\n",
    "        self.ui.ACTIVATE_KEY_lineEdit.setText(self.read_config('default','ACTIVATE_KEY'))\n",
    "        self.ui.D_or_E_KEY_lineEdit.setText(self.read_config('default','D_or_E_KEY'))\n",
    "\n",
    "    def RUN(self):\n",
    "        if self.ui.RUN_pushButton.text()=='RUN':\n",
    "            self.ui.RUN_pushButton.setText(\"STOP\")\n",
    "            self.ui.RUN_pushButton.setStyleSheet('QPushButton{color: rgb(255, 255, 255);background-color: rgb(135, 0, 0);text-decoration: underline;font: 700 14pt \"Verdana\";border-radius: 7px;}QPushButton:hover{\tbackground-color:rgba(135, 0, 0,200);}QPushButton:pressed{\tbackground-color: rgba(135, 0, 0,150);}')\n",
    "            self.p = QProcess()\n",
    "            self.p.start(\"python\", ['run.py'])\n",
    "            \n",
    "            if self.read_config('custom','FPS')=='True':\n",
    "                self.p.readyReadStandardError.connect(self.show_ERROR)\n",
    "                self.p.readyReadStandardOutput.connect(self.show_FPS)\n",
    "                \n",
    "\n",
    "            \n",
    "        else:\n",
    "            self.ui.RUN_pushButton.setText(\"RUN\")\n",
    "            self.ui.RUN_pushButton.setStyleSheet('QPushButton{color: rgb(255, 255, 255);background-color: rgb(0, 135, 0);text-decoration: underline;font: 700 14pt \"Verdana\";border-radius: 7px;}QPushButton:hover{\tbackground-color:rgba(0, 135, 0,200);}QPushButton:pressed{\tbackground-color: rgba(0, 135, 0,150);}') \n",
    "            self.p.kill()\n",
    "            \n",
    "            \n",
    "\n",
    "            \n",
    "\n",
    "    def read_config(self, section, key):\n",
    "        return config[section][key]\n",
    "        \n",
    "    def show(self):\n",
    "        self.ui.show()\n",
    "        \n",
    "    def closeEvent(self):\n",
    "        self.p.kill()\n",
    "        QCloseEvent().accept()\n",
    "       \n"
   ]
  },
  {
   "cell_type": "code",
   "execution_count": 5,
   "id": "6261d8a5-8159-41e5-b0b1-1935df51936c",
   "metadata": {
    "collapsed": false,
    "ExecuteTime": {
     "end_time": "2024-03-16T15:34:51.686374Z",
     "start_time": "2024-03-16T15:34:51.655794Z"
    }
   },
   "outputs": [],
   "source": [
    "loader=QUiLoader()"
   ]
  },
  {
   "cell_type": "code",
   "execution_count": 6,
   "id": "95422a5c-3749-4f4f-91ea-879214741ce4",
   "metadata": {
    "ExecuteTime": {
     "end_time": "2024-03-16T15:34:52.000340Z",
     "start_time": "2024-03-16T15:34:51.687397Z"
    }
   },
   "outputs": [],
   "source": [
    "app= QApplication(sys.argv)"
   ]
  },
  {
   "cell_type": "code",
   "execution_count": null,
   "id": "1a9714a3-a5f1-4315-8f21-906ac43f64ef",
   "metadata": {
    "ExecuteTime": {
     "start_time": "2024-03-16T15:34:52.002405Z"
    }
   },
   "outputs": [],
   "source": [
    "widget= mywidget()\n",
    "\n",
    "widget.show()\n",
    "\n",
    "app.exec()"
   ]
  },
  {
   "cell_type": "code",
   "execution_count": null,
   "id": "78b572f6f9d46fe",
   "metadata": {
    "collapsed": false
   },
   "outputs": [],
   "source": []
  },
  {
   "cell_type": "code",
   "outputs": [],
   "source": [],
   "metadata": {
    "collapsed": false
   },
   "id": "b99ecb66c8ff209f",
   "execution_count": null
  }
 ],
 "metadata": {
  "kernelspec": {
   "display_name": "Python 3 (ipykernel)",
   "language": "python",
   "name": "python3"
  },
  "language_info": {
   "codemirror_mode": {
    "name": "ipython",
    "version": 3
   },
   "file_extension": ".py",
   "mimetype": "text/x-python",
   "name": "python",
   "nbconvert_exporter": "python",
   "pygments_lexer": "ipython3",
   "version": "3.9.18"
  }
 },
 "nbformat": 4,
 "nbformat_minor": 5
}
