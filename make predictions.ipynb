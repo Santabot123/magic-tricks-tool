{
 "cells": [
  {
   "cell_type": "code",
   "execution_count": 1,
   "id": "aba9e8d7-b14b-4594-a3db-5316b087640f",
   "metadata": {},
   "outputs": [],
   "source": [
    "from sahi import AutoDetectionModel\n",
    "from sahi.predict import predict\n"
   ]
  },
  {
   "cell_type": "code",
   "execution_count": 2,
   "id": "5ff66826-ba10-45f9-ac2e-ccae57187b69",
   "metadata": {},
   "outputs": [],
   "source": [
    "yolov8_model_path = \"/home/sasha/anaconda_projects/sahi/runs/detect/train12/weights/best.pt\""
   ]
  },
  {
   "cell_type": "code",
   "execution_count": 3,
   "id": "7b8f2152-8583-481a-add6-5f5f0615a542",
   "metadata": {},
   "outputs": [],
   "source": [
    "model_type = \"yolov8\"\n",
    "model_path = yolov8_model_path\n",
    "model_device = \"cuda:0\" # or 'cuda:0'\n",
    "model_confidence_threshold = 0.3\n",
    "\n",
    "slice_height = 160\n",
    "slice_width = 160\n",
    "overlap_height_ratio = 0.2\n",
    "overlap_width_ratio = 0.2\n",
    "\n",
    "source_image_dir = \"demo_data/\""
   ]
  },
  {
   "cell_type": "code",
   "execution_count": 2,
   "id": "994df489-5bfd-44fb-8c11-0d4f828163d1",
   "metadata": {
    "scrolled": true
   },
   "outputs": [
    {
     "ename": "NameError",
     "evalue": "name 'model_type' is not defined",
     "output_type": "error",
     "traceback": [
      "\u001b[1;31m---------------------------------------------------------------------------\u001b[0m",
      "\u001b[1;31mNameError\u001b[0m                                 Traceback (most recent call last)",
      "Cell \u001b[1;32mIn[2], line 2\u001b[0m\n\u001b[0;32m      1\u001b[0m predict(\n\u001b[1;32m----> 2\u001b[0m     model_type\u001b[38;5;241m=\u001b[39m\u001b[43mmodel_type\u001b[49m,\n\u001b[0;32m      3\u001b[0m     model_path\u001b[38;5;241m=\u001b[39mmodel_path,\n\u001b[0;32m      4\u001b[0m     model_device\u001b[38;5;241m=\u001b[39mmodel_device,\n\u001b[0;32m      5\u001b[0m     model_confidence_threshold\u001b[38;5;241m=\u001b[39mmodel_confidence_threshold,\n\u001b[0;32m      6\u001b[0m     source\u001b[38;5;241m=\u001b[39msource_image_dir,\n\u001b[0;32m      7\u001b[0m     slice_height\u001b[38;5;241m=\u001b[39mslice_height,\n\u001b[0;32m      8\u001b[0m     slice_width\u001b[38;5;241m=\u001b[39mslice_width,\n\u001b[0;32m      9\u001b[0m     overlap_height_ratio\u001b[38;5;241m=\u001b[39moverlap_height_ratio,\n\u001b[0;32m     10\u001b[0m     overlap_width_ratio\u001b[38;5;241m=\u001b[39moverlap_width_ratio,\n\u001b[0;32m     11\u001b[0m )\n",
      "\u001b[1;31mNameError\u001b[0m: name 'model_type' is not defined"
     ]
    }
   ],
   "source": [
    "predict(\n",
    "    model_type=model_type,\n",
    "    model_path=model_path,\n",
    "    model_device=model_device,\n",
    "    model_confidence_threshold=model_confidence_threshold,\n",
    "    source=source_image_dir,\n",
    "    slice_height=slice_height,\n",
    "    slice_width=slice_width,\n",
    "    overlap_height_ratio=overlap_height_ratio,\n",
    "    overlap_width_ratio=overlap_width_ratio,\n",
    ")"
   ]
  },
  {
   "cell_type": "code",
   "execution_count": null,
   "id": "af381aee-7139-42b9-906a-511747ae7809",
   "metadata": {},
   "outputs": [],
   "source": []
  }
 ],
 "metadata": {
  "kernelspec": {
   "display_name": "Python 3 (ipykernel)",
   "language": "python",
   "name": "python3"
  },
  "language_info": {
   "codemirror_mode": {
    "name": "ipython",
    "version": 3
   },
   "file_extension": ".py",
   "mimetype": "text/x-python",
   "name": "python",
   "nbconvert_exporter": "python",
   "pygments_lexer": "ipython3",
   "version": "3.9.18"
  }
 },
 "nbformat": 4,
 "nbformat_minor": 5
}
