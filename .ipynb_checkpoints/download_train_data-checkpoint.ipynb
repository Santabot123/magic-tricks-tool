{
 "cells": [
  {
   "cell_type": "code",
   "execution_count": 1,
   "id": "7cfdf742-a4a6-4564-8c99-d20c584a04a6",
   "metadata": {},
   "outputs": [],
   "source": [
    "from pycocotools.coco import COCO\n",
    "import requests\n",
    "import multiprocessing\n",
    "import os"
   ]
  },
  {
   "cell_type": "code",
   "execution_count": 2,
   "id": "a10b20a4-8e1f-43ab-8b62-2192ab327d67",
   "metadata": {},
   "outputs": [
    {
     "name": "stdout",
     "output_type": "stream",
     "text": [
      "loading annotations into memory...\n",
      "Done (t=13.99s)\n",
      "creating index...\n",
      "index created!\n"
     ]
    }
   ],
   "source": [
    "subset='train'\n",
    "\n",
    "coco = COCO('./annotations_trainval2017/annotations/instances_train2017.json')\n",
    "\n",
    "catIds = coco.getCatIds(catNms=['person'])\n",
    "\n",
    "imgIds = coco.getImgIds(catIds=catIds)\n",
    "images = coco.loadImgs(imgIds)"
   ]
  },
  {
   "cell_type": "code",
   "execution_count": 3,
   "id": "81cd826b-2660-4ac4-be8e-839352cd656c",
   "metadata": {},
   "outputs": [],
   "source": [
    "def download_and_convert_to_yolo(im):\n",
    "    img_data = requests.get(im['coco_url']).content\n",
    "    with open(f'./person/{subset}/images/' + im['file_name'], 'wb') as handler:\n",
    "        handler.write(img_data)\n",
    "        handler.close()\n",
    "        \n",
    "    annIds=coco.getAnnIds(catIds=catIds,imgIds=im['id'])\n",
    "    annotations= coco.loadAnns(annIds)\n",
    "    \n",
    "    for ann in annotations:\n",
    "        x,y,w,h=ann['bbox']\n",
    "        image=coco.loadImgs(ann['image_id'])\n",
    "        image_h=image[0]['height']\n",
    "        image_w=image[0]['width']\n",
    "    \n",
    "        x=(2*x+w)/(2*image_w)\n",
    "        y=(2*y+h)/(2*image_h)\n",
    "        w=w/image_w\n",
    "        h=h/image_h\n",
    "    \n",
    "        ann['bbox']=[x,y,w,h]\n",
    "        \n",
    "    bboxes= [' '.join(map(str,[0]+annotation['bbox']+['\\n'])) for annotation in annotations]\n",
    "    \n",
    "    filename=os.path.splitext(im['file_name'])[0]\n",
    "    \n",
    "    file = open(f'./person/{subset}/labels/' + filename+'.txt', \"w\")\n",
    "    \n",
    "    file.writelines(bboxes)\n",
    "    file.close()\n",
    "    \n",
    "    "
   ]
  },
  {
   "cell_type": "code",
   "execution_count": 4,
   "id": "f8965cf1-5126-4e08-a9fc-bff7078c266b",
   "metadata": {},
   "outputs": [],
   "source": [
    "pool = multiprocessing.Pool()"
   ]
  },
  {
   "cell_type": "code",
   "execution_count": 5,
   "id": "b8bf43e2-9c4f-4585-8a79-f6301e202e09",
   "metadata": {
    "scrolled": true
   },
   "outputs": [
    {
     "ename": "ConnectionError",
     "evalue": "('Connection aborted.', ConnectionResetError(104, 'Connection reset by peer'))",
     "output_type": "error",
     "traceback": [
      "\u001b[0;31m---------------------------------------------------------------------------\u001b[0m",
      "\u001b[0;31mRemoteTraceback\u001b[0m                           Traceback (most recent call last)",
      "\u001b[0;31mRemoteTraceback\u001b[0m: \n\"\"\"\nTraceback (most recent call last):\n  File \"/home/sasha/anaconda3/envs/magic/lib/python3.9/site-packages/urllib3/connectionpool.py\", line 793, in urlopen\n    response = self._make_request(\n  File \"/home/sasha/anaconda3/envs/magic/lib/python3.9/site-packages/urllib3/connectionpool.py\", line 537, in _make_request\n    response = conn.getresponse()\n  File \"/home/sasha/anaconda3/envs/magic/lib/python3.9/site-packages/urllib3/connection.py\", line 466, in getresponse\n    httplib_response = super().getresponse()\n  File \"/home/sasha/anaconda3/envs/magic/lib/python3.9/http/client.py\", line 1377, in getresponse\n    response.begin()\n  File \"/home/sasha/anaconda3/envs/magic/lib/python3.9/http/client.py\", line 320, in begin\n    version, status, reason = self._read_status()\n  File \"/home/sasha/anaconda3/envs/magic/lib/python3.9/http/client.py\", line 281, in _read_status\n    line = str(self.fp.readline(_MAXLINE + 1), \"iso-8859-1\")\n  File \"/home/sasha/anaconda3/envs/magic/lib/python3.9/socket.py\", line 704, in readinto\n    return self._sock.recv_into(b)\nConnectionResetError: [Errno 104] Connection reset by peer\n\nDuring handling of the above exception, another exception occurred:\n\nTraceback (most recent call last):\n  File \"/home/sasha/anaconda3/envs/magic/lib/python3.9/site-packages/requests/adapters.py\", line 486, in send\n    resp = conn.urlopen(\n  File \"/home/sasha/anaconda3/envs/magic/lib/python3.9/site-packages/urllib3/connectionpool.py\", line 847, in urlopen\n    retries = retries.increment(\n  File \"/home/sasha/anaconda3/envs/magic/lib/python3.9/site-packages/urllib3/util/retry.py\", line 470, in increment\n    raise reraise(type(error), error, _stacktrace)\n  File \"/home/sasha/anaconda3/envs/magic/lib/python3.9/site-packages/urllib3/util/util.py\", line 38, in reraise\n    raise value.with_traceback(tb)\n  File \"/home/sasha/anaconda3/envs/magic/lib/python3.9/site-packages/urllib3/connectionpool.py\", line 793, in urlopen\n    response = self._make_request(\n  File \"/home/sasha/anaconda3/envs/magic/lib/python3.9/site-packages/urllib3/connectionpool.py\", line 537, in _make_request\n    response = conn.getresponse()\n  File \"/home/sasha/anaconda3/envs/magic/lib/python3.9/site-packages/urllib3/connection.py\", line 466, in getresponse\n    httplib_response = super().getresponse()\n  File \"/home/sasha/anaconda3/envs/magic/lib/python3.9/http/client.py\", line 1377, in getresponse\n    response.begin()\n  File \"/home/sasha/anaconda3/envs/magic/lib/python3.9/http/client.py\", line 320, in begin\n    version, status, reason = self._read_status()\n  File \"/home/sasha/anaconda3/envs/magic/lib/python3.9/http/client.py\", line 281, in _read_status\n    line = str(self.fp.readline(_MAXLINE + 1), \"iso-8859-1\")\n  File \"/home/sasha/anaconda3/envs/magic/lib/python3.9/socket.py\", line 704, in readinto\n    return self._sock.recv_into(b)\nurllib3.exceptions.ProtocolError: ('Connection aborted.', ConnectionResetError(104, 'Connection reset by peer'))\n\nDuring handling of the above exception, another exception occurred:\n\nTraceback (most recent call last):\n  File \"/home/sasha/anaconda3/envs/magic/lib/python3.9/multiprocessing/pool.py\", line 125, in worker\n    result = (True, func(*args, **kwds))\n  File \"/home/sasha/anaconda3/envs/magic/lib/python3.9/multiprocessing/pool.py\", line 48, in mapstar\n    return list(map(*args))\n  File \"/tmp/ipykernel_22689/2384705610.py\", line 2, in download_and_convert_to_yolo\n    img_data = requests.get(im['coco_url']).content\n  File \"/home/sasha/anaconda3/envs/magic/lib/python3.9/site-packages/requests/api.py\", line 73, in get\n    return request(\"get\", url, params=params, **kwargs)\n  File \"/home/sasha/anaconda3/envs/magic/lib/python3.9/site-packages/requests/api.py\", line 59, in request\n    return session.request(method=method, url=url, **kwargs)\n  File \"/home/sasha/anaconda3/envs/magic/lib/python3.9/site-packages/requests/sessions.py\", line 589, in request\n    resp = self.send(prep, **send_kwargs)\n  File \"/home/sasha/anaconda3/envs/magic/lib/python3.9/site-packages/requests/sessions.py\", line 703, in send\n    r = adapter.send(request, **kwargs)\n  File \"/home/sasha/anaconda3/envs/magic/lib/python3.9/site-packages/requests/adapters.py\", line 501, in send\n    raise ConnectionError(err, request=request)\nrequests.exceptions.ConnectionError: ('Connection aborted.', ConnectionResetError(104, 'Connection reset by peer'))\n\"\"\"",
      "\nThe above exception was the direct cause of the following exception:\n",
      "\u001b[0;31mConnectionError\u001b[0m                           Traceback (most recent call last)",
      "Cell \u001b[0;32mIn[5], line 1\u001b[0m\n\u001b[0;32m----> 1\u001b[0m \u001b[43mpool\u001b[49m\u001b[38;5;241;43m.\u001b[39;49m\u001b[43mmap\u001b[49m\u001b[43m(\u001b[49m\u001b[43mdownload_and_convert_to_yolo\u001b[49m\u001b[43m,\u001b[49m\u001b[43m \u001b[49m\u001b[43mimages\u001b[49m\u001b[43m)\u001b[49m\n",
      "File \u001b[0;32m~/anaconda3/envs/magic/lib/python3.9/multiprocessing/pool.py:364\u001b[0m, in \u001b[0;36mPool.map\u001b[0;34m(self, func, iterable, chunksize)\u001b[0m\n\u001b[1;32m    359\u001b[0m \u001b[38;5;28;01mdef\u001b[39;00m \u001b[38;5;21mmap\u001b[39m(\u001b[38;5;28mself\u001b[39m, func, iterable, chunksize\u001b[38;5;241m=\u001b[39m\u001b[38;5;28;01mNone\u001b[39;00m):\n\u001b[1;32m    360\u001b[0m \u001b[38;5;250m    \u001b[39m\u001b[38;5;124;03m'''\u001b[39;00m\n\u001b[1;32m    361\u001b[0m \u001b[38;5;124;03m    Apply `func` to each element in `iterable`, collecting the results\u001b[39;00m\n\u001b[1;32m    362\u001b[0m \u001b[38;5;124;03m    in a list that is returned.\u001b[39;00m\n\u001b[1;32m    363\u001b[0m \u001b[38;5;124;03m    '''\u001b[39;00m\n\u001b[0;32m--> 364\u001b[0m     \u001b[38;5;28;01mreturn\u001b[39;00m \u001b[38;5;28;43mself\u001b[39;49m\u001b[38;5;241;43m.\u001b[39;49m\u001b[43m_map_async\u001b[49m\u001b[43m(\u001b[49m\u001b[43mfunc\u001b[49m\u001b[43m,\u001b[49m\u001b[43m \u001b[49m\u001b[43miterable\u001b[49m\u001b[43m,\u001b[49m\u001b[43m \u001b[49m\u001b[43mmapstar\u001b[49m\u001b[43m,\u001b[49m\u001b[43m \u001b[49m\u001b[43mchunksize\u001b[49m\u001b[43m)\u001b[49m\u001b[38;5;241;43m.\u001b[39;49m\u001b[43mget\u001b[49m\u001b[43m(\u001b[49m\u001b[43m)\u001b[49m\n",
      "File \u001b[0;32m~/anaconda3/envs/magic/lib/python3.9/multiprocessing/pool.py:771\u001b[0m, in \u001b[0;36mApplyResult.get\u001b[0;34m(self, timeout)\u001b[0m\n\u001b[1;32m    769\u001b[0m     \u001b[38;5;28;01mreturn\u001b[39;00m \u001b[38;5;28mself\u001b[39m\u001b[38;5;241m.\u001b[39m_value\n\u001b[1;32m    770\u001b[0m \u001b[38;5;28;01melse\u001b[39;00m:\n\u001b[0;32m--> 771\u001b[0m     \u001b[38;5;28;01mraise\u001b[39;00m \u001b[38;5;28mself\u001b[39m\u001b[38;5;241m.\u001b[39m_value\n",
      "\u001b[0;31mConnectionError\u001b[0m: ('Connection aborted.', ConnectionResetError(104, 'Connection reset by peer'))"
     ]
    }
   ],
   "source": [
    "pool.map(download_and_convert_to_yolo, images)"
   ]
  },
  {
   "cell_type": "code",
   "execution_count": null,
   "id": "f0acdb3e-3aa2-435e-8268-ff83ab6e5010",
   "metadata": {},
   "outputs": [],
   "source": []
  }
 ],
 "metadata": {
  "kernelspec": {
   "display_name": "Python 3 (ipykernel)",
   "language": "python",
   "name": "python3"
  },
  "language_info": {
   "codemirror_mode": {
    "name": "ipython",
    "version": 3
   },
   "file_extension": ".py",
   "mimetype": "text/x-python",
   "name": "python",
   "nbconvert_exporter": "python",
   "pygments_lexer": "ipython3",
   "version": "3.9.18"
  }
 },
 "nbformat": 4,
 "nbformat_minor": 5
}
